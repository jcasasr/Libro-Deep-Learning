{
 "cells": [
  {
   "cell_type": "markdown",
   "id": "81541504-694b-42af-88a5-2764559d1745",
   "metadata": {},
   "source": [
    "<div style=\"width: 100%; clear: both;\">\n",
    "    <div style=\"float: left; width: 50%;\">\n",
    "        <img src=\"http://www.uoc.edu/portal/_resources/common/imatges/marca_UOC/UOC_Masterbrand.jpg\", align=\"left\">\n",
    "    </div>\n",
    "    <div style=\"float: right; width: 50%;\">\n",
    "        <p style=\"margin: 0; padding-top: 22px; text-align:right;\">M2.875 - Deep Learning</p>\n",
    "        <p style=\"margin: 0; text-align:right;\">Estudios de Informática, Multimedia y Telecomunicación</p>\n",
    "        <p style=\"margin: 0; text-align:right; padding-button: 100px;\">Universitat Oberta de Catalunya (UOC)</p>\n",
    "    </div>\n",
    "</div>\n",
    "<div style=\"width:100%;\">&nbsp;</div>"
   ]
  },
  {
   "cell_type": "markdown",
   "id": "ddb83b2f-8daf-4dad-ab23-594dc4e17ec3",
   "metadata": {},
   "source": [
    "# Ejemplo de funcionamiento de Autoencoder\n",
    "\n",
    "En este ejemplo veremos un caso de aplicación para un autoencoder. En concreto, nos centraremos en la compresión y reconstrucción de imágenes empleando *autoencoders*.\n",
    "\n",
    "<u>Nota</u>: Este ejemplo está basado en https://blog.keras.io/building-autoencoders-in-keras.html"
   ]
  },
  {
   "cell_type": "markdown",
   "id": "a1bfafd4-c1d3-4f1a-9a47-a2f94ed0fbbb",
   "metadata": {},
   "source": [
    "Deshabilitamos la aparición de warnings.\n",
    "\n",
    "<u>Nota</u>: No se recomienda este paso cuando se está desarrollando el código."
   ]
  },
  {
   "cell_type": "code",
   "execution_count": 1,
   "id": "5dbf7aae-5649-4c04-b69f-dc804439f80f",
   "metadata": {},
   "outputs": [],
   "source": [
    "import warnings\n",
    "\n",
    "warnings.filterwarnings('ignore')"
   ]
  },
  {
   "cell_type": "markdown",
   "id": "3fe0fe6a-892e-4c89-8a94-9fb01cbdc647",
   "metadata": {},
   "source": [
    "## Carga de las librerías\n",
    "\n",
    "Carga de las librerías para ejecutar el ejemplo."
   ]
  },
  {
   "cell_type": "code",
   "execution_count": 2,
   "id": "b5cff874-9ecd-44c9-87fe-49a444f7a14d",
   "metadata": {},
   "outputs": [
    {
     "name": "stdout",
     "output_type": "stream",
     "text": [
      "TensorFlow version: 2.7.0\n",
      "Keras version     : 2.7.0\n",
      "Numpy version     : 1.21.5\n"
     ]
    }
   ],
   "source": [
    "import tensorflow as tf\n",
    "from tensorflow import keras\n",
    "import numpy as np\n",
    "\n",
    "print(\"TensorFlow version: {}\".format(tf.__version__))\n",
    "print(\"Keras version     : {}\".format(keras.__version__))\n",
    "print(\"Numpy version     : {}\".format(np.__version__))"
   ]
  },
  {
   "cell_type": "code",
   "execution_count": 3,
   "id": "1cc36661",
   "metadata": {},
   "outputs": [],
   "source": [
    "from tensorflow.keras.utils import to_categorical\n",
    "from tensorflow.keras.models import Sequential\n",
    "from tensorflow.keras.layers import Dense, Conv2D, Flatten\n",
    "import matplotlib.pyplot as plt"
   ]
  },
  {
   "cell_type": "markdown",
   "id": "36927297-2d2e-47eb-986a-f488d774af21",
   "metadata": {},
   "source": [
    "## 1. Carga del conjunto de datos\n",
    "\n",
    "En primer lugar, cargamos el conjunto de datos, que en este caso será el dataset de dígitos [MNIST](https://en.wikipedia.org/wiki/MNIST_database). \n",
    "\n",
    "Realizamos esta carga, directamente, a partir de la librería [Keras](https://keras.io/)."
   ]
  },
  {
   "cell_type": "code",
   "execution_count": 4,
   "id": "06d1fb57",
   "metadata": {},
   "outputs": [],
   "source": [
    "from keras.datasets import mnist\n",
    "import numpy as np\n",
    "\n",
    "(x_train, _), (x_test, _) = mnist.load_data()"
   ]
  },
  {
   "cell_type": "code",
   "execution_count": 5,
   "id": "1648f3c1",
   "metadata": {},
   "outputs": [
    {
     "name": "stdout",
     "output_type": "stream",
     "text": [
      "(60000, 784)\n",
      "(10000, 784)\n"
     ]
    }
   ],
   "source": [
    "x_train = x_train.astype('float32') / 255.\n",
    "x_test = x_test.astype('float32') / 255.\n",
    "x_train = x_train.reshape((len(x_train), np.prod(x_train.shape[1:])))\n",
    "x_test = x_test.reshape((len(x_test), np.prod(x_test.shape[1:])))\n",
    "print(x_train.shape)\n",
    "print(x_test.shape)"
   ]
  },
  {
   "cell_type": "markdown",
   "id": "98459ae4-77b9-422d-8442-dae5a4f37412",
   "metadata": {},
   "source": [
    "## 2. Creación del *autoencoder*\n",
    "\n",
    "A continuación, creamos el *autoencoder* en su forma más senzilla:\n",
    "- A partir de las imágenes de entrada de de 28x28 píxeles en escala de grises, se crea una capa con 784 valores de entrada\n",
    "- Creamos un **codificador** (*encoder*) con una representación de 32 neuronas\n",
    "- Creamos un **decodificador** (*decoder*) que genere una salida en la misma resolución que las imágenes de entrada, es decir, 784 neuronas de salida para generar una imagen de 28x28 píxeles en escala de grises."
   ]
  },
  {
   "cell_type": "code",
   "execution_count": 6,
   "id": "ce4e772e",
   "metadata": {},
   "outputs": [
    {
     "name": "stderr",
     "output_type": "stream",
     "text": [
      "2023-03-06 16:30:33.886782: I tensorflow/core/platform/cpu_feature_guard.cc:151] This TensorFlow binary is optimized with oneAPI Deep Neural Network Library (oneDNN) to use the following CPU instructions in performance-critical operations:  AVX2 FMA\n",
      "To enable them in other operations, rebuild TensorFlow with the appropriate compiler flags.\n"
     ]
    }
   ],
   "source": [
    "from keras.layers import Input, Dense\n",
    "from keras.models import Model\n",
    "\n",
    "# Tamaño de la representación interna del autoencoder\n",
    "layer1dim = 64\n",
    "layer2dim = 32\n",
    "layer3dim = 64\n",
    "\n",
    "# capa de entrada\n",
    "input_img = Input(shape=(784,))\n",
    "# representación interna (encoded)\n",
    "h1 = Dense(layer1dim, activation='relu')(input_img)\n",
    "h2 = Dense(layer2dim, activation='relu')(h1)\n",
    "h3 = Dense(layer3dim, activation='relu')(h2)\n",
    "\n",
    "# salida del autoencoder, es decir, la imagen reconstruida (decoded)\n",
    "decoded = Dense(784, activation='sigmoid')(h3)\n",
    "\n",
    "# el modelo completo de autoencoder, que apila la entrada y la salida\n",
    "autoencoder = Model(input_img, decoded)"
   ]
  },
  {
   "cell_type": "markdown",
   "id": "3492cd0a-946e-4234-9959-57c05a590d49",
   "metadata": {},
   "source": [
    "Para finalidades didácticas, definimos el modelo `encoder` que genera la codificación interna del autoencoder, sin el proceso de decodificación."
   ]
  },
  {
   "cell_type": "code",
   "execution_count": 7,
   "id": "fd1eb2d7",
   "metadata": {
    "scrolled": true
   },
   "outputs": [
    {
     "name": "stdout",
     "output_type": "stream",
     "text": [
      "Model: \"model_1\"\n",
      "_________________________________________________________________\n",
      " Layer (type)                Output Shape              Param #   \n",
      "=================================================================\n",
      " input_1 (InputLayer)        [(None, 784)]             0         \n",
      "                                                                 \n",
      " dense (Dense)               (None, 64)                50240     \n",
      "                                                                 \n",
      " dense_1 (Dense)             (None, 32)                2080      \n",
      "                                                                 \n",
      " dense_2 (Dense)             (None, 64)                2112      \n",
      "                                                                 \n",
      "=================================================================\n",
      "Total params: 54,432\n",
      "Trainable params: 54,432\n",
      "Non-trainable params: 0\n",
      "_________________________________________________________________\n"
     ]
    }
   ],
   "source": [
    "# este modelo crea la representación interna\n",
    "encoder = Model(input_img, h3)\n",
    "\n",
    "encoder.summary()"
   ]
  },
  {
   "cell_type": "markdown",
   "id": "39fd7686-98e8-4c4a-be81-00ad620d3c1a",
   "metadata": {},
   "source": [
    "De forma similar, definimos el modelo `decoder` que a partir de la representación interna (32 valores) reconstruye la imagen, es decir, aplica el proceso de decodificación."
   ]
  },
  {
   "cell_type": "code",
   "execution_count": 8,
   "id": "62dd712f",
   "metadata": {},
   "outputs": [
    {
     "name": "stdout",
     "output_type": "stream",
     "text": [
      "Model: \"model_2\"\n",
      "_________________________________________________________________\n",
      " Layer (type)                Output Shape              Param #   \n",
      "=================================================================\n",
      " input_2 (InputLayer)        [(None, 64)]              0         \n",
      "                                                                 \n",
      " dense_3 (Dense)             (None, 784)               50960     \n",
      "                                                                 \n",
      "=================================================================\n",
      "Total params: 50,960\n",
      "Trainable params: 50,960\n",
      "Non-trainable params: 0\n",
      "_________________________________________________________________\n"
     ]
    }
   ],
   "source": [
    "# capa de entrada de la representación interna\n",
    "encoded_input = Input(shape=(layer1dim,))\n",
    "\n",
    "# obtener la última capa del autoencoder definido previamente\n",
    "decoder_layer = autoencoder.layers[-1]\n",
    "\n",
    "# creación del modelo\n",
    "decoder = Model(encoded_input, decoder_layer(encoded_input))\n",
    "\n",
    "decoder.summary()"
   ]
  },
  {
   "cell_type": "markdown",
   "id": "04e79b95-e6d2-4682-9346-e96ebd9a7e41",
   "metadata": {},
   "source": [
    "Finalmente, definimos el optimizador y la función de pérdida empleada para el entrenamiento del *autoencoder*."
   ]
  },
  {
   "cell_type": "code",
   "execution_count": 9,
   "id": "fc3b494c",
   "metadata": {},
   "outputs": [
    {
     "name": "stdout",
     "output_type": "stream",
     "text": [
      "Model: \"model\"\n",
      "_________________________________________________________________\n",
      " Layer (type)                Output Shape              Param #   \n",
      "=================================================================\n",
      " input_1 (InputLayer)        [(None, 784)]             0         \n",
      "                                                                 \n",
      " dense (Dense)               (None, 64)                50240     \n",
      "                                                                 \n",
      " dense_1 (Dense)             (None, 32)                2080      \n",
      "                                                                 \n",
      " dense_2 (Dense)             (None, 64)                2112      \n",
      "                                                                 \n",
      " dense_3 (Dense)             (None, 784)               50960     \n",
      "                                                                 \n",
      "=================================================================\n",
      "Total params: 105,392\n",
      "Trainable params: 105,392\n",
      "Non-trainable params: 0\n",
      "_________________________________________________________________\n"
     ]
    }
   ],
   "source": [
    "autoencoder.compile(loss=\"binary_crossentropy\",optimizer=keras.optimizers.SGD(lr=1.5))\n",
    "autoencoder.summary()"
   ]
  },
  {
   "cell_type": "markdown",
   "id": "64ffd802-72ba-4657-97a8-c075d9ac5c07",
   "metadata": {},
   "source": [
    "## 3. Entrenamiento del *autoencoder*\n",
    "\n",
    "En el siguiente fragmento de código se entrena el *autoencoder* creado anteriormente.\n",
    "\n",
    "Los hiperparámetros para ajustar el entrenamiento, además del optimizador y función de pérdida, son:\n",
    "- número de épocas del entrenamiento\n",
    "- tamaño del lote"
   ]
  },
  {
   "cell_type": "code",
   "execution_count": 10,
   "id": "56bfcd72",
   "metadata": {},
   "outputs": [],
   "source": [
    "n_epochs = 50\n",
    "n_batch_size = 256"
   ]
  },
  {
   "cell_type": "code",
   "execution_count": 11,
   "id": "0ba7484d",
   "metadata": {
    "scrolled": true
   },
   "outputs": [
    {
     "name": "stdout",
     "output_type": "stream",
     "text": [
      "Epoch 1/50\n",
      "235/235 [==============================] - 1s 4ms/step - loss: 0.3031 - val_loss: 0.2625\n",
      "Epoch 2/50\n",
      "235/235 [==============================] - 1s 3ms/step - loss: 0.2402 - val_loss: 0.2166\n",
      "Epoch 3/50\n",
      "235/235 [==============================] - 1s 3ms/step - loss: 0.2043 - val_loss: 0.1939\n",
      "Epoch 4/50\n",
      "235/235 [==============================] - 1s 3ms/step - loss: 0.1866 - val_loss: 0.1798\n",
      "Epoch 5/50\n",
      "235/235 [==============================] - 1s 4ms/step - loss: 0.1732 - val_loss: 0.1642\n",
      "Epoch 6/50\n",
      "235/235 [==============================] - 1s 4ms/step - loss: 0.1628 - val_loss: 0.1576\n",
      "Epoch 7/50\n",
      "235/235 [==============================] - 1s 4ms/step - loss: 0.1563 - val_loss: 0.1528\n",
      "Epoch 8/50\n",
      "235/235 [==============================] - 1s 4ms/step - loss: 0.1517 - val_loss: 0.1466\n",
      "Epoch 9/50\n",
      "235/235 [==============================] - 1s 4ms/step - loss: 0.1480 - val_loss: 0.1494\n",
      "Epoch 10/50\n",
      "235/235 [==============================] - 1s 4ms/step - loss: 0.1438 - val_loss: 0.1413\n",
      "Epoch 11/50\n",
      "235/235 [==============================] - 1s 4ms/step - loss: 0.1395 - val_loss: 0.1386\n",
      "Epoch 12/50\n",
      "235/235 [==============================] - 1s 4ms/step - loss: 0.1363 - val_loss: 0.1330\n",
      "Epoch 13/50\n",
      "235/235 [==============================] - 1s 4ms/step - loss: 0.1338 - val_loss: 0.1343\n",
      "Epoch 14/50\n",
      "235/235 [==============================] - 1s 4ms/step - loss: 0.1316 - val_loss: 0.1274\n",
      "Epoch 15/50\n",
      "235/235 [==============================] - 1s 4ms/step - loss: 0.1295 - val_loss: 0.1297\n",
      "Epoch 16/50\n",
      "235/235 [==============================] - 1s 4ms/step - loss: 0.1279 - val_loss: 0.1236\n",
      "Epoch 17/50\n",
      "235/235 [==============================] - 1s 4ms/step - loss: 0.1263 - val_loss: 0.1247\n",
      "Epoch 18/50\n",
      "235/235 [==============================] - 1s 4ms/step - loss: 0.1249 - val_loss: 0.1220\n",
      "Epoch 19/50\n",
      "235/235 [==============================] - 1s 4ms/step - loss: 0.1233 - val_loss: 0.1215\n",
      "Epoch 20/50\n",
      "235/235 [==============================] - 1s 5ms/step - loss: 0.1221 - val_loss: 0.1201\n",
      "Epoch 21/50\n",
      "235/235 [==============================] - 1s 5ms/step - loss: 0.1208 - val_loss: 0.1172\n",
      "Epoch 22/50\n",
      "235/235 [==============================] - 1s 5ms/step - loss: 0.1196 - val_loss: 0.1201\n",
      "Epoch 23/50\n",
      "235/235 [==============================] - 1s 5ms/step - loss: 0.1188 - val_loss: 0.1173\n",
      "Epoch 24/50\n",
      "235/235 [==============================] - 1s 5ms/step - loss: 0.1177 - val_loss: 0.1168\n",
      "Epoch 25/50\n",
      "235/235 [==============================] - 1s 5ms/step - loss: 0.1169 - val_loss: 0.1141\n",
      "Epoch 26/50\n",
      "235/235 [==============================] - 1s 5ms/step - loss: 0.1160 - val_loss: 0.1142\n",
      "Epoch 27/50\n",
      "235/235 [==============================] - 1s 5ms/step - loss: 0.1154 - val_loss: 0.1145\n",
      "Epoch 28/50\n",
      "235/235 [==============================] - 1s 5ms/step - loss: 0.1146 - val_loss: 0.1150\n",
      "Epoch 29/50\n",
      "235/235 [==============================] - 1s 5ms/step - loss: 0.1140 - val_loss: 0.1117\n",
      "Epoch 30/50\n",
      "235/235 [==============================] - 1s 5ms/step - loss: 0.1133 - val_loss: 0.1136\n",
      "Epoch 31/50\n",
      "235/235 [==============================] - 1s 5ms/step - loss: 0.1124 - val_loss: 0.1107\n",
      "Epoch 32/50\n",
      "235/235 [==============================] - 1s 5ms/step - loss: 0.1118 - val_loss: 0.1093\n",
      "Epoch 33/50\n",
      "235/235 [==============================] - 1s 5ms/step - loss: 0.1112 - val_loss: 0.1105\n",
      "Epoch 34/50\n",
      "235/235 [==============================] - 1s 6ms/step - loss: 0.1107 - val_loss: 0.1093\n",
      "Epoch 35/50\n",
      "235/235 [==============================] - 1s 6ms/step - loss: 0.1099 - val_loss: 0.1065\n",
      "Epoch 36/50\n",
      "235/235 [==============================] - 1s 6ms/step - loss: 0.1093 - val_loss: 0.1088\n",
      "Epoch 37/50\n",
      "235/235 [==============================] - 1s 5ms/step - loss: 0.1089 - val_loss: 0.1065\n",
      "Epoch 38/50\n",
      "235/235 [==============================] - 1s 6ms/step - loss: 0.1084 - val_loss: 0.1081\n",
      "Epoch 39/50\n",
      "235/235 [==============================] - 1s 6ms/step - loss: 0.1080 - val_loss: 0.1044\n",
      "Epoch 40/50\n",
      "235/235 [==============================] - 1s 5ms/step - loss: 0.1076 - val_loss: 0.1069\n",
      "Epoch 41/50\n",
      "235/235 [==============================] - 1s 6ms/step - loss: 0.1072 - val_loss: 0.1046\n",
      "Epoch 42/50\n",
      "235/235 [==============================] - 1s 6ms/step - loss: 0.1067 - val_loss: 0.1066\n",
      "Epoch 43/50\n",
      "235/235 [==============================] - 1s 6ms/step - loss: 0.1066 - val_loss: 0.1055\n",
      "Epoch 44/50\n",
      "235/235 [==============================] - 1s 6ms/step - loss: 0.1060 - val_loss: 0.1065\n",
      "Epoch 45/50\n",
      "235/235 [==============================] - 1s 6ms/step - loss: 0.1057 - val_loss: 0.1036\n",
      "Epoch 46/50\n",
      "235/235 [==============================] - 1s 6ms/step - loss: 0.1052 - val_loss: 0.1023\n",
      "Epoch 47/50\n",
      "235/235 [==============================] - 1s 6ms/step - loss: 0.1050 - val_loss: 0.1045\n",
      "Epoch 48/50\n",
      "235/235 [==============================] - 1s 6ms/step - loss: 0.1044 - val_loss: 0.1020\n",
      "Epoch 49/50\n",
      "235/235 [==============================] - 1s 6ms/step - loss: 0.1041 - val_loss: 0.1004\n",
      "Epoch 50/50\n",
      "235/235 [==============================] - 1s 6ms/step - loss: 0.1038 - val_loss: 0.1029\n"
     ]
    }
   ],
   "source": [
    "mfit = autoencoder.fit(x_train, x_train,\n",
    "                epochs=n_epochs,\n",
    "                batch_size=n_batch_size,\n",
    "                shuffle=True,\n",
    "                validation_data=(x_test, x_test))"
   ]
  },
  {
   "cell_type": "code",
   "execution_count": 12,
   "id": "adc1d5ba",
   "metadata": {},
   "outputs": [
    {
     "name": "stdout",
     "output_type": "stream",
     "text": [
      "Model: \"model_3\"\n",
      "_________________________________________________________________\n",
      " Layer (type)                Output Shape              Param #   \n",
      "=================================================================\n",
      " input_3 (InputLayer)        [(None, 28, 28)]          0         \n",
      "                                                                 \n",
      " flatten (Flatten)           (None, 784)               0         \n",
      "                                                                 \n",
      " dense_4 (Dense)             (None, 392)               307720    \n",
      "                                                                 \n",
      " dense_5 (Dense)             (None, 196)               77028     \n",
      "                                                                 \n",
      " dense_6 (Dense)             (None, 392)               77224     \n",
      "                                                                 \n",
      " dense_7 (Dense)             (None, 784)               308112    \n",
      "                                                                 \n",
      " reshape (Reshape)           (None, 28, 28)            0         \n",
      "                                                                 \n",
      "=================================================================\n",
      "Total params: 770,084\n",
      "Trainable params: 770,084\n",
      "Non-trainable params: 0\n",
      "_________________________________________________________________\n"
     ]
    }
   ],
   "source": [
    "#Stacked Autoencoder with functional model\n",
    "#encoder\n",
    "inputs = keras.Input(shape=(28,28))\n",
    "lr_flatten = keras.layers.Flatten()(inputs)\n",
    "lr1 = keras.layers.Dense(392, activation=\"selu\")(lr_flatten)\n",
    "lr2 = keras.layers.Dense(196, activation=\"selu\")(lr1)\n",
    "#decoder\n",
    "lr3 =  keras.layers.Dense(392, activation=\"selu\")(lr2)\n",
    "lr4 =  keras.layers.Dense(28 * 28, activation=\"sigmoid\")(lr3)\n",
    "outputs = keras.layers.Reshape([28, 28])(lr4)\n",
    "stacked_ae = keras.models.Model(inputs,outputs)\n",
    "stacked_ae.compile(loss=\"binary_crossentropy\", optimizer=keras.optimizers.SGD(lr=1.5))\n",
    "stacked_ae.summary()"
   ]
  },
  {
   "cell_type": "code",
   "execution_count": 13,
   "id": "de28c971",
   "metadata": {},
   "outputs": [
    {
     "data": {
      "image/png": "[encoded data removed]",
      "text/plain": [
       "<Figure size 640x480 with 1 Axes>"
      ]
     },
     "metadata": {},
     "output_type": "display_data"
    }
   ],
   "source": [
    "import matplotlib.pyplot as plt\n",
    "\n",
    "# Plot del training loss\n",
    "plt.style.use(\"ggplot\")\n",
    "\n",
    "plt.plot(np.arange(0, n_epochs), mfit.history[\"loss\"], label=\"train\")\n",
    "plt.plot(np.arange(0, n_epochs), mfit.history[\"val_loss\"], label=\"val\")\n",
    "plt.title(\"Loss\")\n",
    "plt.xlabel(\"Epoch #\")\n",
    "plt.ylabel(\"Loss\")\n",
    "plt.legend(loc=\"upper right\")\n",
    "plt.show()"
   ]
  },
  {
   "cell_type": "markdown",
   "id": "ab78130c-add0-4ef2-83f9-bbc5f58fc675",
   "metadata": {},
   "source": [
    "## 4. Visualización de los resultados\n",
    "\n",
    "Finalmente, presentaremos los resultados de aplicar el *autoencoder* en algunos ejemplos del conjunto de datos de test."
   ]
  },
  {
   "cell_type": "code",
   "execution_count": 14,
   "id": "79d8f608",
   "metadata": {
    "scrolled": true
   },
   "outputs": [],
   "source": [
    "# codificamos y decodificamos las imágenes de test\n",
    "encoded_imgs = encoder.predict(x_test)\n",
    "decoded_imgs = decoder.predict(encoded_imgs)"
   ]
  },
  {
   "cell_type": "markdown",
   "id": "618d14c8-3c7a-4549-b6bc-56c595fd9e6d",
   "metadata": {},
   "source": [
    "Notese que este paso se puede realizar en un solo paso, empleando:\n",
    "\n",
    "> decoded_imgs = autoencoder.predict(x_test)"
   ]
  },
  {
   "cell_type": "code",
   "execution_count": 15,
   "id": "e3f9c527",
   "metadata": {},
   "outputs": [
    {
     "data": {
      "image/png": "[encoded data removed]",
      "text/plain": [
       "<Figure size 2000x400 with 20 Axes>"
      ]
     },
     "metadata": {},
     "output_type": "display_data"
    }
   ],
   "source": [
    "import matplotlib.pyplot as plt\n",
    "\n",
    "n = 10  # cantidad de ejemplos que mostrar\n",
    "plt.figure(figsize=(20, 4))\n",
    "\n",
    "for i in range(n):\n",
    "    # mostrar la imagen original\n",
    "    ax = plt.subplot(2, n, i + 1)\n",
    "    plt.imshow(x_test[i].reshape(28, 28))\n",
    "    plt.gray()\n",
    "    ax.get_xaxis().set_visible(False)\n",
    "    ax.get_yaxis().set_visible(False)\n",
    "\n",
    "    # mostrar la reconstrucción\n",
    "    ax = plt.subplot(2, n, i + 1 + n)\n",
    "    plt.imshow(decoded_imgs[i].reshape(28, 28))\n",
    "    plt.gray()\n",
    "    ax.get_xaxis().set_visible(False)\n",
    "    ax.get_yaxis().set_visible(False)\n",
    "\n",
    "plt.show()"
   ]
  },
  {
   "cell_type": "code",
   "execution_count": null,
   "id": "e572ba02",
   "metadata": {},
   "outputs": [],
   "source": []
  }
 ],
 "metadata": {
  "kernelspec": {
   "display_name": "Python 3 (ipykernel)",
   "language": "python",
   "name": "python3"
  },
  "language_info": {
   "codemirror_mode": {
    "name": "ipython",
    "version": 3
   },
   "file_extension": ".py",
   "mimetype": "text/x-python",
   "name": "python",
   "nbconvert_exporter": "python",
   "pygments_lexer": "ipython3",
   "version": "3.8.8"
  }
 },
 "nbformat": 4,
 "nbformat_minor": 5
}
